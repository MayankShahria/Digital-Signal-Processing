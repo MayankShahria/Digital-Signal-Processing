{
 "cells": [
  {
   "cell_type": "code",
   "execution_count": 1,
   "metadata": {},
   "outputs": [],
   "source": [
    "import numpy as np\n",
    "import matplotlib.pyplot as plt\n",
    "%matplotlib inline"
   ]
  },
  {
   "cell_type": "code",
   "execution_count": 2,
   "metadata": {},
   "outputs": [
    {
     "name": "stderr",
     "output_type": "stream",
     "text": [
      "C:\\Users\\DELL\\Anaconda3\\envs\\tensorflow_env\\lib\\site-packages\\ipykernel_launcher.py:66: UserWarning: In Matplotlib 3.3 individual lines on a stem plot will be added as a LineCollection instead of individual lines. This significantly improves the performance of a stem plot. To remove this warning and switch to the new behaviour, set the \"use_line_collection\" keyword argument to True.\n",
      "C:\\Users\\DELL\\Anaconda3\\envs\\tensorflow_env\\lib\\site-packages\\ipykernel_launcher.py:71: UserWarning: In Matplotlib 3.3 individual lines on a stem plot will be added as a LineCollection instead of individual lines. This significantly improves the performance of a stem plot. To remove this warning and switch to the new behaviour, set the \"use_line_collection\" keyword argument to True.\n",
      "C:\\Users\\DELL\\Anaconda3\\envs\\tensorflow_env\\lib\\site-packages\\ipykernel_launcher.py:76: UserWarning: In Matplotlib 3.3 individual lines on a stem plot will be added as a LineCollection instead of individual lines. This significantly improves the performance of a stem plot. To remove this warning and switch to the new behaviour, set the \"use_line_collection\" keyword argument to True.\n",
      "C:\\Users\\DELL\\Anaconda3\\envs\\tensorflow_env\\lib\\site-packages\\ipykernel_launcher.py:86: UserWarning: In Matplotlib 3.3 individual lines on a stem plot will be added as a LineCollection instead of individual lines. This significantly improves the performance of a stem plot. To remove this warning and switch to the new behaviour, set the \"use_line_collection\" keyword argument to True.\n"
     ]
    },
    {
     "data": {
      "text/plain": [
       "True"
      ]
     },
     "execution_count": 2,
     "metadata": {},
     "output_type": "execute_result"
    },
    {
     "data": {
      "image/png": "[encoded data removed]",
      "text/plain": [
       "<Figure size 864x864 with 4 Axes>"
      ]
     },
     "metadata": {
      "needs_background": "light"
     },
     "output_type": "display_data"
    }
   ],
   "source": [
    "from scipy import signal\n",
    "w1 = np.arange(-10,10,1/2)                            #Uniform arrangment of numbers from -10 to 10\n",
    "w2 = np.arange(-5,5,1/4)                              #Uniform arrangment of numbers from -5 to 5\n",
    "\n",
    "#Here we have defined a rect function\n",
    "\n",
    "\n",
    "t = len(w1) \n",
    "def rect(t):\n",
    "    s = (abs(t)<=0.5).astype(float)\n",
    "    return s\n",
    "\n",
    "#Here we have defined a sin function\n",
    "\n",
    "\n",
    "def sin(t):\n",
    "    s= np.sin(np.pi*t*5)\n",
    "    return s\n",
    "\n",
    "x1 = rect(w1)                                        #Calling the rect function\n",
    "       \n",
    "    \n",
    "\n",
    "#Here we will Perform DFT for x1\n",
    "\n",
    "\n",
    "\n",
    "c1 = np.zeros(t,complex)                             #Making an array of zeros permitting complex enteries here\n",
    "n = np.arange(t)\n",
    "for k in range(t):\n",
    "    output1 = x1[n]*np.exp(-2j*np.pi*k*n/t)\n",
    "    c1[k] = np.sum(output1)\n",
    "    \n",
    "\n",
    "\n",
    "#Here we will Perform DFT FOR x2           \n",
    "        \n",
    "        \n",
    "x2 = sin(w2)                                         #Calling the sin function\n",
    "c2 = np.zeros(t,complex)                             #Making an array of zeros permitting complex enteries here\n",
    "for k in range(t):\n",
    "    output2 = x2[n]*np.exp(-2j*np.pi*k*n/t)\n",
    "    c2[k] = np.sum(output2)\n",
    "\n",
    "\n",
    "#Here we will perform the IDFT for c1*c2\n",
    "\n",
    "\n",
    "\n",
    "C3 = c1*c2                                           #Multiplying the DFT's of the above results here\n",
    "N = len(C3)                                               \n",
    "c3 = np.zeros(t,complex)                             #Making an array of zeros permitting complex enteries here\n",
    "n1 = np.arange(N)\n",
    "for k in range(N):\n",
    "    output3 = C3[n1]*np.exp(2j*np.pi*k*n1/N)\n",
    "    c3[k] = np.sum(output3)\n",
    "\n",
    "xn = c3*(1/N)                                       #IDFT is completed here\n",
    "\n",
    "#Plots of the DFT's\n",
    "\n",
    "#Plot of c1\n",
    "\n",
    "plt.figure(figsize=(12,12))\n",
    "plt.subplot(321)\n",
    "plt.stem(np.real(c1))\n",
    "\n",
    "#Plot of c2\n",
    "\n",
    "plt.subplot(322)\n",
    "plt.stem(np.real(c2))\n",
    "\n",
    "#Plot of c1*c2\n",
    "\n",
    "plt.subplot(323)\n",
    "plt.stem(np.real(xn))\n",
    "\n",
    "\n",
    "#checking that did our code above is correct or same as that of FFT we calculated above and we do below\n",
    "\n",
    "xx1 = np.fft.fft(x1,len(w1))                       #DFT of x1 with the help of function np.fft.fft()\n",
    "xx2 = np.fft.fft(x2,len(w2))                       #DFT of x2 with the help of function np.fft.fft()\n",
    "\n",
    "xx12 = np.fft.ifft(xx1*xx2)                        #IDFT of xx1 and xx2 with the help of function np.fft.ifft()\n",
    "plt.subplot(324)\n",
    "plt.stem(np.real(xx12))\n",
    "\n",
    "np.allclose(xx12,xn)                               #Checking that our hypothesis are correct or not"
   ]
  },
  {
   "cell_type": "code",
   "execution_count": null,
   "metadata": {},
   "outputs": [],
   "source": []
  }
 ],
 "metadata": {
  "kernelspec": {
   "display_name": "Python 3",
   "language": "python",
   "name": "python3"
  },
  "language_info": {
   "codemirror_mode": {
    "name": "ipython",
    "version": 3
   },
   "file_extension": ".py",
   "mimetype": "text/x-python",
   "name": "python",
   "nbconvert_exporter": "python",
   "pygments_lexer": "ipython3",
   "version": "3.7.6"
  }
 },
 "nbformat": 4,
 "nbformat_minor": 2
}
